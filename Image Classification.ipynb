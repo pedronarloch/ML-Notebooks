{
 "cells": [
  {
   "cell_type": "code",
   "execution_count": 1,
   "id": "2119c768",
   "metadata": {},
   "outputs": [],
   "source": [
    "import tensorflow\n",
    "from tensorflow import keras\n",
    "import numpy as np\n",
    "import pandas as pd\n",
    "import matplotlib.pyplot as plt"
   ]
  },
  {
   "cell_type": "markdown",
   "id": "1b2b5e86",
   "metadata": {},
   "source": [
    "<h1> Fashion MNIST </h1>\n",
    "\n",
    "The Fashion MNIST has the same format of MNIST (70,000 grayscale 28x28 pixel images). However, the Fashion MNIST contains 10 different classes, showing to be a harder classification task than the classical MNIST usually solved with linear learning models."
   ]
  },
  {
   "cell_type": "code",
   "execution_count": 2,
   "id": "c4e5710c",
   "metadata": {},
   "outputs": [],
   "source": [
    "fashion_mnist = keras.datasets.fashion_mnist #Loading the Dataset\n",
    "(X_train_full, y_train_full), (X_test, y_test) = fashion_mnist.load_data()"
   ]
  },
  {
   "cell_type": "markdown",
   "id": "a2cef480",
   "metadata": {},
   "source": [
    "The initial dataset load already split the train/test cases. However, it does not create a validation set. Moreover, the datatype is an unsigned integer value between 0 and 255. As the Gradient Descent algorithm will be used during the learning phase, it is important to shift the data to [0,1] domain. Naturally, the datatype will become a set of floats."
   ]
  },
  {
   "cell_type": "code",
   "execution_count": 3,
   "id": "42a5baea",
   "metadata": {},
   "outputs": [],
   "source": [
    "X_valid, X_train = X_train_full[:5000]/255.0, X_train_full[5000:]/255.0\n",
    "y_valid, y_train = y_train_full[:5000], y_train_full[5000:]\n",
    "X_test = X_test/255.0"
   ]
  },
  {
   "cell_type": "code",
   "execution_count": 4,
   "id": "3d48e5b3",
   "metadata": {},
   "outputs": [],
   "source": [
    "# As the output is a Number, we can use a list to get the correct lab\n",
    "class_names = [\"T-Shirt/Top\", \"Trouser\", \"Pullover\", \"Dress\", \"Coat\", \"Sandal\", \"Shirt\", \"Sneaker\", \"Bag\", \"Ankle boot\"]"
   ]
  },
  {
   "cell_type": "markdown",
   "id": "751f5c05",
   "metadata": {},
   "source": [
    "The first example of the MLP is using 4 layers, 1 for a flatten input, 2 hidden layers, and an output layer with 10 neurons using the softmax activation. The softmax activation function is needed since the classes are exclusive among each other.\n",
    "\n",
    "There are different way to create the model. In this first case we stack each layer in a sequential mode, instantiating each layer one by one.\n",
    "\n",
    "<h1> Creating a simple MLP </h1>"
   ]
  },
  {
   "cell_type": "code",
   "execution_count": 5,
   "id": "5d72c713",
   "metadata": {},
   "outputs": [],
   "source": [
    "model = keras.models.Sequential() #Creates a Sequential model, a stack of layers\n",
    "model.add(keras.layers.Flatten(input_shape=[28,28])) #Transform a matrix into 1D array (input layer)\n",
    "model.add(keras.layers.Dense(300,activation=\"relu\")) #The first hidden layer with 300 neurons with ReLU\n",
    "model.add(keras.layers.Dense(100, activation=\"relu\")) #The second hidden layer with 100 neurons\n",
    "model.add(keras.layers.Dense(10, activation=\"softmax\")) #A softmax (classes are exclusive) output layer"
   ]
  },
  {
   "cell_type": "markdown",
   "id": "c3038450",
   "metadata": {},
   "source": [
    "A second option is to input a list of layers to the Sequential constructor. After the model instantiation it is possible to check with the model.summary() the shape of the MLP."
   ]
  },
  {
   "cell_type": "code",
   "execution_count": 6,
   "id": "77bc254f",
   "metadata": {},
   "outputs": [
    {
     "name": "stdout",
     "output_type": "stream",
     "text": [
      "Model: \"sequential_1\"\n",
      "_________________________________________________________________\n",
      "Layer (type)                 Output Shape              Param #   \n",
      "=================================================================\n",
      "flatten_1 (Flatten)          (None, 784)               0         \n",
      "_________________________________________________________________\n",
      "dense_3 (Dense)              (None, 300)               235500    \n",
      "_________________________________________________________________\n",
      "dense_4 (Dense)              (None, 100)               30100     \n",
      "_________________________________________________________________\n",
      "dense_5 (Dense)              (None, 10)                1010      \n",
      "=================================================================\n",
      "Total params: 266,610\n",
      "Trainable params: 266,610\n",
      "Non-trainable params: 0\n",
      "_________________________________________________________________\n"
     ]
    }
   ],
   "source": [
    "model = keras.models.Sequential([\n",
    "    keras.layers.Flatten(input_shape=[28,28]),\n",
    "    keras.layers.Dense(300, activation=\"relu\"),\n",
    "    keras.layers.Dense(100, activation=\"relu\"),\n",
    "    keras.layers.Dense(10, activation = \"softmax\")\n",
    "])\n",
    "\n",
    "model.summary()"
   ]
  },
  {
   "cell_type": "markdown",
   "id": "9750ac74",
   "metadata": {},
   "source": [
    "<h1> Compiling the Model </h1>\n",
    "\n",
    "After the layer initialization it is important to to compile the model through the compile() method. In the compile() method it is possible to specify the loss function, the optimizer, and the list of observable metrics to compute during the training."
   ]
  },
  {
   "cell_type": "code",
   "execution_count": 7,
   "id": "faf8a1cc",
   "metadata": {},
   "outputs": [],
   "source": [
    "model.compile(loss=\"sparse_categorical_crossentropy\",\n",
    "             optimizer=\"sgd\",\n",
    "             metrics=[\"accuracy\"])"
   ]
  },
  {
   "cell_type": "markdown",
   "id": "fd7f3f4a",
   "metadata": {},
   "source": [
    "As we are using the softmax function as output layer, it means that for each problem instance there is only one target. The classes are exclusive.\n",
    "\n",
    "After the compilation step, our model is ready to be trained. For this, we use the fit() method, passing the training set (X and y), the number of epochs, and, optionally, the validation data.\n",
    "\n",
    "Informing the validation data is an interesting approach since it is possible to compare the performance of the learning model on both training and validation set. Moreover, if the performance of the training set is much bigger than the validation set, than, probably, the learning model overfitted to the training data."
   ]
  },
  {
   "cell_type": "code",
   "execution_count": 20,
   "id": "f883ed08",
   "metadata": {},
   "outputs": [
    {
     "name": "stdout",
     "output_type": "stream",
     "text": [
      "Epoch 1/30\n",
      "1719/1719 [==============================] - 10s 4ms/step - loss: 0.7102 - accuracy: 0.7656 - val_loss: 0.4968 - val_accuracy: 0.8360\n",
      "Epoch 2/30\n",
      "1719/1719 [==============================] - 5s 3ms/step - loss: 0.4877 - accuracy: 0.8280 - val_loss: 0.4423 - val_accuracy: 0.8512\n",
      "Epoch 3/30\n",
      "1719/1719 [==============================] - 6s 3ms/step - loss: 0.4422 - accuracy: 0.8434 - val_loss: 0.4224 - val_accuracy: 0.8548\n",
      "Epoch 4/30\n",
      "1719/1719 [==============================] - 6s 3ms/step - loss: 0.4156 - accuracy: 0.8538 - val_loss: 0.3929 - val_accuracy: 0.8662\n",
      "Epoch 5/30\n",
      "1719/1719 [==============================] - 6s 3ms/step - loss: 0.3943 - accuracy: 0.8613 - val_loss: 0.3905 - val_accuracy: 0.8620\n",
      "Epoch 6/30\n",
      "1719/1719 [==============================] - 6s 3ms/step - loss: 0.3792 - accuracy: 0.8667 - val_loss: 0.3699 - val_accuracy: 0.8738\n",
      "Epoch 7/30\n",
      "1719/1719 [==============================] - 6s 4ms/step - loss: 0.3659 - accuracy: 0.8711 - val_loss: 0.3582 - val_accuracy: 0.8762\n",
      "Epoch 8/30\n",
      "1719/1719 [==============================] - 6s 4ms/step - loss: 0.3552 - accuracy: 0.8737 - val_loss: 0.3681 - val_accuracy: 0.8734\n",
      "Epoch 9/30\n",
      "1719/1719 [==============================] - 7s 4ms/step - loss: 0.3452 - accuracy: 0.8773 - val_loss: 0.3643 - val_accuracy: 0.8740\n",
      "Epoch 10/30\n",
      "1719/1719 [==============================] - 7s 4ms/step - loss: 0.3354 - accuracy: 0.8793 - val_loss: 0.3514 - val_accuracy: 0.8756\n",
      "Epoch 11/30\n",
      "1719/1719 [==============================] - 7s 4ms/step - loss: 0.3283 - accuracy: 0.8838 - val_loss: 0.3528 - val_accuracy: 0.8748\n",
      "Epoch 12/30\n",
      "1719/1719 [==============================] - 7s 4ms/step - loss: 0.3205 - accuracy: 0.8852 - val_loss: 0.3509 - val_accuracy: 0.8742\n",
      "Epoch 13/30\n",
      "1719/1719 [==============================] - 7s 4ms/step - loss: 0.3120 - accuracy: 0.8885 - val_loss: 0.3530 - val_accuracy: 0.8738\n",
      "Epoch 14/30\n",
      "1719/1719 [==============================] - 7s 4ms/step - loss: 0.3057 - accuracy: 0.8899 - val_loss: 0.3453 - val_accuracy: 0.8778\n",
      "Epoch 15/30\n",
      "1719/1719 [==============================] - 7s 4ms/step - loss: 0.2993 - accuracy: 0.8932 - val_loss: 0.3509 - val_accuracy: 0.8742\n",
      "Epoch 16/30\n",
      "1719/1719 [==============================] - 7s 4ms/step - loss: 0.2936 - accuracy: 0.8941 - val_loss: 0.3357 - val_accuracy: 0.8832\n",
      "Epoch 17/30\n",
      "1719/1719 [==============================] - 7s 4ms/step - loss: 0.2879 - accuracy: 0.8969 - val_loss: 0.3226 - val_accuracy: 0.8844\n",
      "Epoch 18/30\n",
      "1719/1719 [==============================] - 7s 4ms/step - loss: 0.2822 - accuracy: 0.8987 - val_loss: 0.3275 - val_accuracy: 0.8798\n",
      "Epoch 19/30\n",
      "1719/1719 [==============================] - 7s 4ms/step - loss: 0.2772 - accuracy: 0.8993 - val_loss: 0.3494 - val_accuracy: 0.8762\n",
      "Epoch 20/30\n",
      "1719/1719 [==============================] - 7s 4ms/step - loss: 0.2719 - accuracy: 0.9021 - val_loss: 0.3160 - val_accuracy: 0.8878\n",
      "Epoch 21/30\n",
      "1719/1719 [==============================] - 7s 4ms/step - loss: 0.2669 - accuracy: 0.9045 - val_loss: 0.3059 - val_accuracy: 0.8898\n",
      "Epoch 22/30\n",
      "1719/1719 [==============================] - 7s 4ms/step - loss: 0.2622 - accuracy: 0.9053 - val_loss: 0.3154 - val_accuracy: 0.8890\n",
      "Epoch 23/30\n",
      "1719/1719 [==============================] - 7s 4ms/step - loss: 0.2578 - accuracy: 0.9072 - val_loss: 0.3304 - val_accuracy: 0.8802\n",
      "Epoch 24/30\n",
      "1719/1719 [==============================] - 7s 4ms/step - loss: 0.2535 - accuracy: 0.9080 - val_loss: 0.3011 - val_accuracy: 0.8934\n",
      "Epoch 25/30\n",
      "1719/1719 [==============================] - 7s 4ms/step - loss: 0.2505 - accuracy: 0.9091 - val_loss: 0.3021 - val_accuracy: 0.8928\n",
      "Epoch 26/30\n",
      "1719/1719 [==============================] - 7s 4ms/step - loss: 0.2454 - accuracy: 0.9105 - val_loss: 0.3142 - val_accuracy: 0.8842\n",
      "Epoch 27/30\n",
      "1719/1719 [==============================] - 8s 5ms/step - loss: 0.2424 - accuracy: 0.9118 - val_loss: 0.3051 - val_accuracy: 0.8922\n",
      "Epoch 28/30\n",
      "1719/1719 [==============================] - 7s 4ms/step - loss: 0.2386 - accuracy: 0.9134 - val_loss: 0.3058 - val_accuracy: 0.8870\n",
      "Epoch 29/30\n",
      "1719/1719 [==============================] - 8s 4ms/step - loss: 0.2346 - accuracy: 0.9152 - val_loss: 0.3031 - val_accuracy: 0.8914\n",
      "Epoch 30/30\n",
      "1719/1719 [==============================] - 7s 4ms/step - loss: 0.2298 - accuracy: 0.9170 - val_loss: 0.2977 - val_accuracy: 0.8954\n"
     ]
    }
   ],
   "source": [
    "history = model.fit(X_train, y_train, epochs=30, validation_data=(X_valid, y_valid))"
   ]
  },
  {
   "cell_type": "markdown",
   "id": "f4566bac",
   "metadata": {},
   "source": [
    "The fit() method returns an history object containing the training parameters, the list of epochs it used, and a dictionary containing the loss and extra metrics configured before. With all these data it is possible to observe the loss minimization during the training step."
   ]
  },
  {
   "cell_type": "code",
   "execution_count": 22,
   "id": "4e0b56e2",
   "metadata": {},
   "outputs": [
    {
     "data": {
      "image/png": "[encoded data removed]",
      "text/plain": [
       "<Figure size 576x360 with 1 Axes>"
      ]
     },
     "metadata": {
      "needs_background": "light"
     },
     "output_type": "display_data"
    }
   ],
   "source": [
    "pd.DataFrame(history.history).plot(figsize=(8,5))\n",
    "plt.grid(True)\n",
    "plt.gca().set_ylim(0,1)\n",
    "plt.show()"
   ]
  },
  {
   "cell_type": "markdown",
   "id": "bc70ffc5",
   "metadata": {},
   "source": [
    "With the trained model it is possible to evaluate the performance of the model using the test group in order to verify the generalization capability of our model."
   ]
  },
  {
   "cell_type": "code",
   "execution_count": 24,
   "id": "e246b66f",
   "metadata": {},
   "outputs": [
    {
     "name": "stdout",
     "output_type": "stream",
     "text": [
      "313/313 [==============================] - 1s 2ms/step - loss: 0.3253 - accuracy: 0.8850\n"
     ]
    },
    {
     "data": {
      "text/plain": [
       "[0.325318306684494, 0.8849999904632568]"
      ]
     },
     "execution_count": 24,
     "metadata": {},
     "output_type": "execute_result"
    }
   ],
   "source": [
    "model.evaluate(X_test, y_test)"
   ]
  },
  {
   "cell_type": "markdown",
   "id": "79e8ba45",
   "metadata": {},
   "source": [
    "<h1> Using the Model </h1>\n",
    "\n",
    "As the last step, we can use our model to do predictions on new instances. Since we do not have any new input, lets take some instances from the test set and verify the output.\n",
    "\n",
    "Finally, we can save our model."
   ]
  },
  {
   "cell_type": "code",
   "execution_count": 25,
   "id": "fbb30461",
   "metadata": {},
   "outputs": [
    {
     "data": {
      "text/plain": [
       "array([[0.  , 0.  , 0.  , 0.  , 0.  , 0.02, 0.  , 0.01, 0.  , 0.97],\n",
       "       [0.  , 0.  , 1.  , 0.  , 0.  , 0.  , 0.  , 0.  , 0.  , 0.  ],\n",
       "       [0.  , 1.  , 0.  , 0.  , 0.  , 0.  , 0.  , 0.  , 0.  , 0.  ]],\n",
       "      dtype=float32)"
      ]
     },
     "execution_count": 25,
     "metadata": {},
     "output_type": "execute_result"
    }
   ],
   "source": [
    "X_new = X_test[:3]\n",
    "y_prob = model.predict(X_new)\n",
    "y_prob.round(2)"
   ]
  },
  {
   "cell_type": "markdown",
   "id": "50c97484",
   "metadata": {},
   "source": [
    "As is possible to observe, the model estimates a probability for each possible class in each instance. For example, in the first line there is a 97% to be the class 9, while for line 2 the class 3 has 100% of probability to be that class."
   ]
  },
  {
   "cell_type": "code",
   "execution_count": 33,
   "id": "be0a17f8",
   "metadata": {},
   "outputs": [
    {
     "name": "stdout",
     "output_type": "stream",
     "text": [
      "['Ankle boot' 'Pullover' 'Trouser']\n"
     ]
    }
   ],
   "source": [
    "final_result = np.argmax(y_prob, axis=1)\n",
    "final_result = np.array(class_names)[final_result]\n",
    "print(final_result)"
   ]
  },
  {
   "cell_type": "code",
   "execution_count": 9,
   "id": "191acd21",
   "metadata": {},
   "outputs": [],
   "source": [
    "#model.save(\"/home/phnarloch/Documentos/Source/fashion_mnist_model.h5\")\n",
    "#To load the model:\n",
    "model = keras.models.load_model(\"/home/phnarloch/Documentos/Source/fashion_mnist_model.h5\")"
   ]
  },
  {
   "cell_type": "code",
   "execution_count": 11,
   "id": "9fb41890",
   "metadata": {},
   "outputs": [
    {
     "name": "stdout",
     "output_type": "stream",
     "text": [
      "Model: \"sequential_6\"\n",
      "_________________________________________________________________\n",
      "Layer (type)                 Output Shape              Param #   \n",
      "=================================================================\n",
      "flatten_6 (Flatten)          (None, 784)               0         \n",
      "_________________________________________________________________\n",
      "dense_15 (Dense)             (None, 300)               235500    \n",
      "_________________________________________________________________\n",
      "dense_16 (Dense)             (None, 100)               30100     \n",
      "_________________________________________________________________\n",
      "dense_17 (Dense)             (None, 10)                1010      \n",
      "=================================================================\n",
      "Total params: 266,610\n",
      "Trainable params: 266,610\n",
      "Non-trainable params: 0\n",
      "_________________________________________________________________\n"
     ]
    }
   ],
   "source": [
    "model.summary()"
   ]
  },
  {
   "cell_type": "markdown",
   "id": "232596c8",
   "metadata": {},
   "source": [
    "It is possible to use callbacks in order to save checkpoints during the training phase. For other callbacks function: keras.io/callbacks"
   ]
  },
  {
   "cell_type": "code",
   "execution_count": 13,
   "id": "f53eec80",
   "metadata": {},
   "outputs": [
    {
     "name": "stdout",
     "output_type": "stream",
     "text": [
      "Epoch 1/10\n",
      "1719/1719 [==============================] - 5s 2ms/step - loss: 0.2265 - accuracy: 0.9185\n",
      "Epoch 2/10\n",
      "1719/1719 [==============================] - 4s 2ms/step - loss: 0.2224 - accuracy: 0.9198\n",
      "Epoch 3/10\n",
      "1719/1719 [==============================] - 4s 2ms/step - loss: 0.2192 - accuracy: 0.9208\n",
      "Epoch 4/10\n",
      "1719/1719 [==============================] - 4s 2ms/step - loss: 0.2160 - accuracy: 0.9229\n",
      "Epoch 5/10\n",
      "1719/1719 [==============================] - 4s 2ms/step - loss: 0.2124 - accuracy: 0.9237\n",
      "Epoch 6/10\n",
      "1719/1719 [==============================] - 4s 2ms/step - loss: 0.2096 - accuracy: 0.9243\n",
      "Epoch 7/10\n",
      "1719/1719 [==============================] - 4s 2ms/step - loss: 0.2059 - accuracy: 0.9256\n",
      "Epoch 8/10\n",
      "1719/1719 [==============================] - 4s 2ms/step - loss: 0.2029 - accuracy: 0.9264\n",
      "Epoch 9/10\n",
      "1719/1719 [==============================] - 4s 2ms/step - loss: 0.2001 - accuracy: 0.9280\n",
      "Epoch 10/10\n",
      "1719/1719 [==============================] - 4s 2ms/step - loss: 0.1969 - accuracy: 0.9295\n"
     ]
    }
   ],
   "source": [
    "checkpoint_cb = keras.callbacks.ModelCheckpoint(\"my_keras_model.h5\")\n",
    "history = model.fit(X_train, y_train, epochs=10, callbacks=[checkpoint_cb])"
   ]
  },
  {
   "cell_type": "markdown",
   "id": "deb674f8",
   "metadata": {},
   "source": [
    "For a better visualization of what is happening during the trainin-phase we can use the TensorBoard visualization from the Tensorflow library."
   ]
  },
  {
   "cell_type": "code",
   "execution_count": 15,
   "id": "fd539671",
   "metadata": {},
   "outputs": [],
   "source": [
    "import os\n",
    "\n",
    "root_logdir = os.path.join(os.curdir, \"my_logs\")"
   ]
  },
  {
   "cell_type": "code",
   "execution_count": 18,
   "id": "776ca152",
   "metadata": {},
   "outputs": [],
   "source": [
    "def get_run_logdir():\n",
    "    import time\n",
    "    run_id =time.strftime(\"run_%Y_%m_%d-%H_%M_%S\")\n",
    "    \n",
    "    return os.path.join(root_logdir, run_id)"
   ]
  },
  {
   "cell_type": "code",
   "execution_count": 19,
   "id": "d9ca8dfb",
   "metadata": {},
   "outputs": [],
   "source": [
    "run_logdir = get_run_logdir()"
   ]
  },
  {
   "cell_type": "code",
   "execution_count": 22,
   "id": "f90756d5",
   "metadata": {},
   "outputs": [
    {
     "name": "stdout",
     "output_type": "stream",
     "text": [
      "Epoch 1/30\n",
      "1719/1719 [==============================] - 5s 3ms/step - loss: 0.1931 - accuracy: 0.9314 - val_loss: 0.2946 - val_accuracy: 0.8954\n",
      "Epoch 2/30\n",
      "1719/1719 [==============================] - 4s 2ms/step - loss: 0.1904 - accuracy: 0.9324 - val_loss: 0.3017 - val_accuracy: 0.8866\n",
      "Epoch 3/30\n",
      "1719/1719 [==============================] - 4s 2ms/step - loss: 0.1871 - accuracy: 0.9332 - val_loss: 0.3101 - val_accuracy: 0.8930\n",
      "Epoch 4/30\n",
      "1719/1719 [==============================] - 4s 3ms/step - loss: 0.1853 - accuracy: 0.9328 - val_loss: 0.3127 - val_accuracy: 0.8866\n",
      "Epoch 5/30\n",
      "1719/1719 [==============================] - 4s 2ms/step - loss: 0.1823 - accuracy: 0.9353 - val_loss: 0.3001 - val_accuracy: 0.8908\n",
      "Epoch 6/30\n",
      "1719/1719 [==============================] - 5s 3ms/step - loss: 0.1799 - accuracy: 0.9353 - val_loss: 0.3258 - val_accuracy: 0.8862\n",
      "Epoch 7/30\n",
      "1719/1719 [==============================] - 4s 3ms/step - loss: 0.1761 - accuracy: 0.9373 - val_loss: 0.2967 - val_accuracy: 0.8964\n",
      "Epoch 8/30\n",
      "1719/1719 [==============================] - 4s 3ms/step - loss: 0.1736 - accuracy: 0.9379 - val_loss: 0.3177 - val_accuracy: 0.8856\n",
      "Epoch 9/30\n",
      "1719/1719 [==============================] - 5s 3ms/step - loss: 0.1708 - accuracy: 0.9389 - val_loss: 0.3061 - val_accuracy: 0.8948\n",
      "Epoch 10/30\n",
      "1719/1719 [==============================] - 5s 3ms/step - loss: 0.1685 - accuracy: 0.9398 - val_loss: 0.2919 - val_accuracy: 0.8986\n",
      "Epoch 11/30\n",
      "1719/1719 [==============================] - 4s 3ms/step - loss: 0.1665 - accuracy: 0.9403 - val_loss: 0.3044 - val_accuracy: 0.8916\n",
      "Epoch 12/30\n",
      "1719/1719 [==============================] - 4s 3ms/step - loss: 0.1638 - accuracy: 0.9417 - val_loss: 0.2970 - val_accuracy: 0.8922\n",
      "Epoch 13/30\n",
      "1719/1719 [==============================] - 4s 3ms/step - loss: 0.1617 - accuracy: 0.9424 - val_loss: 0.3334 - val_accuracy: 0.8786\n",
      "Epoch 14/30\n",
      "1719/1719 [==============================] - 4s 3ms/step - loss: 0.1580 - accuracy: 0.9439 - val_loss: 0.2934 - val_accuracy: 0.8976\n",
      "Epoch 15/30\n",
      "1719/1719 [==============================] - 4s 3ms/step - loss: 0.1563 - accuracy: 0.9447 - val_loss: 0.3034 - val_accuracy: 0.8958\n",
      "Epoch 16/30\n",
      "1719/1719 [==============================] - 4s 2ms/step - loss: 0.1540 - accuracy: 0.9453 - val_loss: 0.3016 - val_accuracy: 0.8974\n",
      "Epoch 17/30\n",
      "1719/1719 [==============================] - 4s 3ms/step - loss: 0.1519 - accuracy: 0.9470 - val_loss: 0.3040 - val_accuracy: 0.8950\n",
      "Epoch 18/30\n",
      "1719/1719 [==============================] - 5s 3ms/step - loss: 0.1495 - accuracy: 0.9464 - val_loss: 0.3221 - val_accuracy: 0.8856\n",
      "Epoch 19/30\n",
      "1719/1719 [==============================] - 5s 3ms/step - loss: 0.1471 - accuracy: 0.9471 - val_loss: 0.3082 - val_accuracy: 0.8940\n",
      "Epoch 20/30\n",
      "1719/1719 [==============================] - 6s 3ms/step - loss: 0.1452 - accuracy: 0.9488 - val_loss: 0.3107 - val_accuracy: 0.8972\n",
      "Epoch 21/30\n",
      "1719/1719 [==============================] - 5s 3ms/step - loss: 0.1427 - accuracy: 0.9484 - val_loss: 0.2948 - val_accuracy: 0.8998\n",
      "Epoch 22/30\n",
      "1719/1719 [==============================] - 5s 3ms/step - loss: 0.1402 - accuracy: 0.9506 - val_loss: 0.3231 - val_accuracy: 0.8946\n",
      "Epoch 23/30\n",
      "1719/1719 [==============================] - 5s 3ms/step - loss: 0.1383 - accuracy: 0.9516 - val_loss: 0.3095 - val_accuracy: 0.8948\n",
      "Epoch 24/30\n",
      "1719/1719 [==============================] - 5s 3ms/step - loss: 0.1361 - accuracy: 0.9514 - val_loss: 0.3018 - val_accuracy: 0.8986\n",
      "Epoch 25/30\n",
      "1719/1719 [==============================] - 5s 3ms/step - loss: 0.1342 - accuracy: 0.9527 - val_loss: 0.3193 - val_accuracy: 0.8932\n",
      "Epoch 26/30\n",
      "1719/1719 [==============================] - 5s 3ms/step - loss: 0.1331 - accuracy: 0.9527 - val_loss: 0.3188 - val_accuracy: 0.8956\n",
      "Epoch 27/30\n",
      "1719/1719 [==============================] - 5s 3ms/step - loss: 0.1294 - accuracy: 0.9554 - val_loss: 0.3153 - val_accuracy: 0.8920\n",
      "Epoch 28/30\n",
      "1719/1719 [==============================] - 5s 3ms/step - loss: 0.1272 - accuracy: 0.9548 - val_loss: 0.3041 - val_accuracy: 0.8994\n",
      "Epoch 29/30\n",
      "1719/1719 [==============================] - 5s 3ms/step - loss: 0.1250 - accuracy: 0.9557 - val_loss: 0.3304 - val_accuracy: 0.8898\n",
      "Epoch 30/30\n",
      "1719/1719 [==============================] - 5s 3ms/step - loss: 0.1236 - accuracy: 0.9564 - val_loss: 0.3503 - val_accuracy: 0.8872\n"
     ]
    }
   ],
   "source": [
    "tensorboard_cb = keras.callbacks.TensorBoard(run_logdir)\n",
    "history = model.fit(X_train, y_train, epochs=30, validation_data=(X_valid, y_valid), callbacks=[tensorboard_cb])"
   ]
  },
  {
   "cell_type": "code",
   "execution_count": 23,
   "id": "e5d63715",
   "metadata": {},
   "outputs": [
    {
     "data": {
      "text/html": [
       "\n",
       "      <iframe id=\"tensorboard-frame-1af03e457f608b72\" width=\"100%\" height=\"800\" frameborder=\"0\">\n",
       "      </iframe>\n",
       "      <script>\n",
       "        (function() {\n",
       "          const frame = document.getElementById(\"tensorboard-frame-1af03e457f608b72\");\n",
       "          const url = new URL(\"/\", window.location);\n",
       "          const port = 6606;\n",
       "          if (port) {\n",
       "            url.port = port;\n",
       "          }\n",
       "          frame.src = url;\n",
       "        })();\n",
       "      </script>\n",
       "    "
      ],
      "text/plain": [
       "<IPython.core.display.HTML object>"
      ]
     },
     "metadata": {},
     "output_type": "display_data"
    }
   ],
   "source": [
    "%load_ext tensorboard\n",
    "%tensorboard --logdir=./my_logs --port=6606"
   ]
  },
  {
   "cell_type": "code",
   "execution_count": null,
   "id": "4077150a",
   "metadata": {},
   "outputs": [],
   "source": []
  }
 ],
 "metadata": {
  "kernelspec": {
   "display_name": "Python 3",
   "language": "python",
   "name": "python3"
  },
  "language_info": {
   "codemirror_mode": {
    "name": "ipython",
    "version": 3
   },
   "file_extension": ".py",
   "mimetype": "text/x-python",
   "name": "python",
   "nbconvert_exporter": "python",
   "pygments_lexer": "ipython3",
   "version": "3.8.8"
  }
 },
 "nbformat": 4,
 "nbformat_minor": 5
}
